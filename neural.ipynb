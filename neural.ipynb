{
 "cells": [
  {
   "cell_type": "code",
   "execution_count": null,
   "metadata": {},
   "outputs": [
    {
     "name": "stdout",
     "output_type": "stream",
     "text": [
      "[18.21999999999999, 42.379999999999995, 46.89]\n"
     ]
    }
   ],
   "source": [
    "inputs=[1.5,5.3,2.7]\n",
    "weights1=[4.2,6.1,-8.3]\n",
    "weights2=[2.3,5.2,3.1]\n",
    "weights3=[3.3,4.1,7.3]\n",
    "\n",
    "bias1=2\n",
    "bias2=3\n",
    "bias3=0.5\n",
    "\n",
    "\n",
    "\n",
    "output=[inputs[0]*weights1[0]+inputs[1]*weights1[1]+inputs[2]*weights1[2]+bias1,\n",
    "        inputs[0]*weights2[0]+inputs[1]*weights2[1]+inputs[2]*weights2[2]+bias2,\n",
    "        inputs[0]*weights3[0]+inputs[1]*weights3[1]+inputs[2]*weights3[2]+bias3]\n",
    "print(output)"
   ]
  },
  {
   "cell_type": "code",
   "execution_count": 3,
   "metadata": {},
   "outputs": [
    {
     "name": "stdout",
     "output_type": "stream",
     "text": [
      "[18.21999999999999, 42.379999999999995, 46.89]\n"
     ]
    }
   ],
   "source": [
    "weights=[[4.2,6.1,-8.3],\n",
    "         [2.3,5.2,3.1],\n",
    "         [3.3,4.1,7.3]]\n",
    "biases=[2,3,0.5]\n",
    "layer_outputs=[]\n",
    "for neuron_weights, neuron_bias in zip(weights,biases):\n",
    "    neuron_output=0\n",
    "    for n_input, weight in zip(inputs,neuron_weights):\n",
    "        neuron_output+=n_input*weight\n",
    "\n",
    "    neuron_output+=neuron_bias\n",
    "    layer_outputs.append(neuron_output)\n",
    "\n",
    "print(layer_outputs)"
   ]
  },
  {
   "cell_type": "code",
   "execution_count": 6,
   "metadata": {},
   "outputs": [
    {
     "data": {
      "text/plain": [
       "array([4.8  , 1.21 , 2.385])"
      ]
     },
     "execution_count": 6,
     "metadata": {},
     "output_type": "execute_result"
    }
   ],
   "source": [
    "import numpy as np\n",
    "\n",
    "inputs=[1,2,3,2.5]\n",
    "weights=[[0.2,0.8,-0.5,1.0],\n",
    "            [0.5,-0.91,0.26,-0.5],\n",
    "            [-0.26,-0.27,0.17,0.87]]\n",
    "biases=[2,3,0.5]\n",
    "\n",
    "output=np.dot(weights,inputs)+biases\n",
    "output\n"
   ]
  },
  {
   "cell_type": "code",
   "execution_count": 12,
   "metadata": {},
   "outputs": [
    {
     "data": {
      "text/plain": [
       "array([[ 4.8  ,  1.21 ,  2.385],\n",
       "       [ 8.9  , -1.81 ,  0.2  ],\n",
       "       [ 1.41 ,  1.051,  0.026]])"
      ]
     },
     "execution_count": 12,
     "metadata": {},
     "output_type": "execute_result"
    }
   ],
   "source": [
    "inputs =[[1.0,2.0,3.0,2.5],\n",
    "         [2.0,5.0,-1.0,2.0],\n",
    "         [-1.5,2.7,3.3,-0.8]]\n",
    "\n",
    "weights=np.array([[0.2,0.8,-0.5,1.0],\n",
    "            [0.5,-0.91,0.26,-0.5],\n",
    "            [-0.26,-0.27,0.17,0.87]])\n",
    "output=np.dot(inputs,weights.T)+biases\n",
    "output"
   ]
  },
  {
   "cell_type": "code",
   "execution_count": 13,
   "metadata": {},
   "outputs": [
    {
     "data": {
      "text/plain": [
       "array([[ 0.5031 , -1.04185, -2.03875],\n",
       "       [ 0.2434 , -2.7332 , -5.7633 ],\n",
       "       [-0.99314,  1.41254, -0.35655]])"
      ]
     },
     "execution_count": 13,
     "metadata": {},
     "output_type": "execute_result"
    }
   ],
   "source": [
    "weights2=[[0.1,-0.14,0.5],\n",
    "            [-0.5,0.12,-0.33],\n",
    "            [-0.44,0.73,-0.13]]\n",
    "biases2=[-1,2,-0.5]\n",
    "\n",
    "layer1_outputs=np.dot(inputs,np.array(weights).T) +biases\n",
    "layer2_outputs= np.dot(layer1_outputs,np.array(weights2).T)+biases2\n",
    "\n",
    "layer2_outputs"
   ]
  }
 ],
 "metadata": {
  "kernelspec": {
   "display_name": "base",
   "language": "python",
   "name": "python3"
  },
  "language_info": {
   "codemirror_mode": {
    "name": "ipython",
    "version": 3
   },
   "file_extension": ".py",
   "mimetype": "text/x-python",
   "name": "python",
   "nbconvert_exporter": "python",
   "pygments_lexer": "ipython3",
   "version": "3.12.3"
  }
 },
 "nbformat": 4,
 "nbformat_minor": 2
}
